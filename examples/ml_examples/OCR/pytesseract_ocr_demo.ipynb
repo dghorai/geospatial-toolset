{
 "cells": [
  {
   "cell_type": "markdown",
   "metadata": {},
   "source": [
    "# Extract Text from Pictures using\n",
    "\n",
    "OCR (Optical Character Recognition) is the process of electronical conversion of Digital images into machine-encoded text.\n",
    "\n",
    "#### Requirements\n",
    "1) ! pip install pytesseract\n",
    "2) [Install tesseract.exe](https://github.com/UB-Mannheim/tesseract/wiki)"
   ]
  },
  {
   "cell_type": "code",
   "execution_count": 1,
   "metadata": {},
   "outputs": [],
   "source": [
    "from PIL import Image\n",
    "from pytesseract import pytesseract"
   ]
  },
  {
   "cell_type": "code",
   "execution_count": 5,
   "metadata": {},
   "outputs": [],
   "source": [
    "# Defining paths to tesseract.exe and the image we would be using \n",
    "tesseract_exe_path = \"C:/Users/USER/AppData/Local/Programs/Tesseract-OCR/tesseract.exe\"\n",
    "\n",
    "image_path = \"sample_data/sample_number_plate.jpg\"\n"
   ]
  },
  {
   "cell_type": "code",
   "execution_count": 6,
   "metadata": {},
   "outputs": [
    {
     "name": "stdout",
     "output_type": "stream",
     "text": [
      "<PIL.JpegImagePlugin.JpegImageFile image mode=RGB size=144x48 at 0x17E065912D0>\n"
     ]
    }
   ],
   "source": [
    "# Opening the image and storing it in an image object\n",
    "\n",
    "img = Image.open(image_path)\n",
    "\n",
    "print(img)"
   ]
  },
  {
   "cell_type": "code",
   "execution_count": 7,
   "metadata": {},
   "outputs": [],
   "source": [
    "# Providing the tesseract executable location to pytesseract library \n",
    "pytesseract.tesseract_cmd = tesseract_exe_path \n",
    "\n",
    "# Passing the image object to image_to_string() function \n",
    "# This function will extract the text from the image \n",
    "get_text = pytesseract.image_to_string(img) "
   ]
  },
  {
   "cell_type": "code",
   "execution_count": 13,
   "metadata": {},
   "outputs": [
    {
     "name": "stdout",
     "output_type": "stream",
     "text": [
      "—EE |\n",
      "MY70 BMW §\n",
      "—— 7. SE\n"
     ]
    }
   ],
   "source": [
    "# Displaying the extracted text \n",
    "print(get_text[:-1])"
   ]
  }
 ],
 "metadata": {
  "kernelspec": {
   "display_name": "Python 3",
   "language": "python",
   "name": "python3"
  },
  "language_info": {
   "codemirror_mode": {
    "name": "ipython",
    "version": 3
   },
   "file_extension": ".py",
   "mimetype": "text/x-python",
   "name": "python",
   "nbconvert_exporter": "python",
   "pygments_lexer": "ipython3",
   "version": "3.10.15"
  }
 },
 "nbformat": 4,
 "nbformat_minor": 2
}
