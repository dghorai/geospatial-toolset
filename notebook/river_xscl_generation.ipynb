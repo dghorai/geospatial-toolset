{
 "cells": [
  {
   "cell_type": "code",
   "execution_count": null,
   "metadata": {},
   "outputs": [],
   "source": [
    "import os\n",
    "os.chdir('../.')\n",
    "%pwd"
   ]
  },
  {
   "cell_type": "code",
   "execution_count": null,
   "metadata": {},
   "outputs": [],
   "source": [
    "from geobhumi.vector_ops.create_crosssection_line import generate_river_xscl\n",
    "\n",
    "river_network_file = ''\n",
    "out_xscl_file = ''\n",
    "xscl_uid_field = ''\n",
    "xscl_interval = ''\n",
    "xscl_length = ''\n",
    "is_xscl_exist=False\n",
    "existing_xscl_objectid=None\n",
    "existing_xscl_lineid=None\n",
    "\n",
    "generate_river_xscl(\n",
    "    river_network_file,\n",
    "    out_xscl_file,\n",
    "    xscl_uid_field,\n",
    "    xscl_interval,\n",
    "    xscl_length,\n",
    "    is_xscl_exist=is_xscl_exist,\n",
    "    existing_xscl_objectid=existing_xscl_objectid,\n",
    "    existing_xscl_lineid=existing_xscl_lineid\n",
    ")"
   ]
  }
 ],
 "metadata": {
  "kernelspec": {
   "display_name": "Python 3",
   "language": "python",
   "name": "python3"
  },
  "language_info": {
   "codemirror_mode": {
    "name": "ipython",
    "version": 3
   },
   "file_extension": ".py",
   "mimetype": "text/x-python",
   "name": "python",
   "nbconvert_exporter": "python",
   "pygments_lexer": "ipython3",
   "version": "3.10.10"
  }
 },
 "nbformat": 4,
 "nbformat_minor": 2
}
