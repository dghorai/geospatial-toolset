{
 "cells": [
  {
   "cell_type": "code",
   "execution_count": 1,
   "metadata": {},
   "outputs": [
    {
     "data": {
      "text/plain": [
       "'d:\\\\work\\\\geoutils-rsg'"
      ]
     },
     "execution_count": 1,
     "metadata": {},
     "output_type": "execute_result"
    }
   ],
   "source": [
    "import os\n",
    "os.chdir('../.')\n",
    "%pwd"
   ]
  },
  {
   "cell_type": "code",
   "execution_count": 2,
   "metadata": {},
   "outputs": [],
   "source": [
    "baseline = 'notebooks/data/shorelines/Baseline.shp'\n",
    "offshoreline = 'notebooks/data/shorelines/OffShoreline.shp'\n",
    "shorelines_path = \"notebooks/data/shorelines/shorelines\"\n",
    "transects = 'tests/results/transects.shp'\n",
    "temp_dir = 'tests/results'\n",
    "out_changerate_csvfile = 'tests/results/shoreline_changerate.csv'"
   ]
  },
  {
   "cell_type": "code",
   "execution_count": 3,
   "metadata": {},
   "outputs": [],
   "source": [
    "# generate transects\n",
    "from rsgtools.geo_app.generate_shoreline_transects import create_shoreline_transects\n",
    "create_shoreline_transects(\n",
    "    onshore_line=baseline,\n",
    "    offshore_line=offshoreline,\n",
    "    out_transect_line=transects.replace('.shp', '_temp.shp'),\n",
    "    x_interval=100\n",
    ")"
   ]
  },
  {
   "cell_type": "code",
   "execution_count": 4,
   "metadata": {},
   "outputs": [
    {
     "name": "stdout",
     "output_type": "stream",
     "text": [
      "[2024-04-13 00:21:22,116: WARNING: collection]: Normalized/laundered field name: 'index_right' to 'index_righ'\n"
     ]
    },
    {
     "name": "stderr",
     "output_type": "stream",
     "text": [
      "d:\\work\\geoutils-rsg\\rsgtools\\utils.py:481: UserWarning: Column names longer than 10 characters will be truncated when saved to ESRI Shapefile.\n",
      "  selected_features.to_file(out_selected_features)\n"
     ]
    }
   ],
   "source": [
    "from rsgtools.geo_app.generate_transects_seqid import yield_transects_seqid\n",
    "\n",
    "yield_transects_seqid(\n",
    "    temp_dir, \n",
    "    baseline, \n",
    "    transects.replace('.shp', '_temp.shp'),\n",
    "    transects,\n",
    "    col_name='SeqID'\n",
    ")"
   ]
  },
  {
   "cell_type": "code",
   "execution_count": 5,
   "metadata": {},
   "outputs": [
    {
     "name": "stdout",
     "output_type": "stream",
     "text": [
      "0\n",
      "1\n",
      "2\n",
      "3\n",
      "4\n",
      "5\n",
      "6\n",
      "7\n",
      "8\n",
      "9\n",
      "10\n",
      "11\n",
      "12\n",
      "13\n",
      "14\n",
      "15\n",
      "16\n",
      "17\n",
      "18\n",
      "19\n",
      "20\n",
      "21\n",
      "22\n",
      "23\n",
      "24\n",
      "25\n",
      "26\n",
      "27\n",
      "28\n",
      "29\n",
      "30\n",
      "31\n",
      "32\n",
      "33\n",
      "34\n",
      "35\n",
      "36\n",
      "37\n",
      "38\n",
      "39\n",
      "40\n",
      "41\n",
      "42\n",
      "43\n",
      "44\n",
      "45\n",
      "46\n",
      "47\n",
      "48\n",
      "49\n"
     ]
    }
   ],
   "source": [
    "from rsgtools.geo_app.shoreline_change_analysis import generate_shoreline_change_rate\n",
    "\n",
    "generate_shoreline_change_rate(\n",
    "    tmp=temp_dir, \n",
    "    offshoreline=offshoreline, \n",
    "    baseline=baseline, \n",
    "    shorelines_path=shorelines_path, \n",
    "    transects=transects, \n",
    "    out_csvfile=out_changerate_csvfile, \n",
    "    interval=100, \n",
    "    date_sep='-', \n",
    "    date_format='yyyy-mm-dd'\n",
    ")"
   ]
  }
 ],
 "metadata": {
  "kernelspec": {
   "display_name": "Python 3",
   "language": "python",
   "name": "python3"
  },
  "language_info": {
   "codemirror_mode": {
    "name": "ipython",
    "version": 3
   },
   "file_extension": ".py",
   "mimetype": "text/x-python",
   "name": "python",
   "nbconvert_exporter": "python",
   "pygments_lexer": "ipython3",
   "version": "3.10.10"
  }
 },
 "nbformat": 4,
 "nbformat_minor": 2
}
