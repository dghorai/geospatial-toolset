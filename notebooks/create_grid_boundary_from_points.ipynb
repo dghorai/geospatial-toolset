{
 "cells": [
  {
   "cell_type": "code",
   "execution_count": null,
   "metadata": {},
   "outputs": [],
   "source": [
    "import os\n",
    "os.chdir('../.')\n",
    "%pwd"
   ]
  },
  {
   "cell_type": "code",
   "execution_count": null,
   "metadata": {},
   "outputs": [],
   "source": [
    "from geobhumi.vector_ops.create_grid_boundary import generate_grid_boundary\n",
    "\n",
    "in_point_file = ''\n",
    "point_distance = ''\n",
    "out_grid_boundary = ''\n",
    "\n",
    "generate_grid_boundary(in_point_file, point_distance, out_grid_boundary)"
   ]
  }
 ],
 "metadata": {
  "language_info": {
   "name": "python"
  }
 },
 "nbformat": 4,
 "nbformat_minor": 2
}
