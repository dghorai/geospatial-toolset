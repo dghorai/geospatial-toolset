{
 "cells": [
  {
   "cell_type": "code",
   "execution_count": null,
   "metadata": {},
   "outputs": [],
   "source": [
    "import os\n",
    "os.chdir('../.')\n",
    "%pwd"
   ]
  },
  {
   "cell_type": "code",
   "execution_count": null,
   "metadata": {},
   "outputs": [],
   "source": [
    "multichannel_raster_file = 'notebooks/data/raster/20210901T043701_20210901T044310_T45QWE.tif'\n",
    "singlechannel_raster_file = 'notebooks/data/raster/2021_09_06_FAPAR.tif'\n",
    "\n",
    "out_point_file = 'tests/r2p_conversion.shp'"
   ]
  },
  {
   "cell_type": "code",
   "execution_count": null,
   "metadata": {},
   "outputs": [],
   "source": [
    "from geobhumi.raster_ops.raster2vector import raster_to_point\n",
    "\n",
    "raster_to_point(multichannel_raster_file, out_point_file)"
   ]
  }
 ],
 "metadata": {
  "kernelspec": {
   "display_name": "Python 3",
   "language": "python",
   "name": "python3"
  },
  "language_info": {
   "codemirror_mode": {
    "name": "ipython",
    "version": 3
   },
   "file_extension": ".py",
   "mimetype": "text/x-python",
   "name": "python",
   "nbconvert_exporter": "python",
   "pygments_lexer": "ipython3",
   "version": "3.10.10"
  }
 },
 "nbformat": 4,
 "nbformat_minor": 2
}
